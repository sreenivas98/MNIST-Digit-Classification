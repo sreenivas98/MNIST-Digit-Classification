{
  "nbformat": 4,
  "nbformat_minor": 0,
  "metadata": {
    "colab": {
      "provenance": []
    },
    "kernelspec": {
      "name": "python3",
      "display_name": "Python 3"
    },
    "language_info": {
      "name": "python"
    },
    "gpuClass": "standard",
    "accelerator": "GPU"
  },
  "cells": [
    {
      "cell_type": "markdown",
      "source": [
        "# **Part I (75 points):  Apply Machine Learning approaches on MNIST Handwritten Digit Dataset**"
      ],
      "metadata": {
        "id": "p6ZaFo-ZMs0E"
      }
    },
    {
      "cell_type": "markdown",
      "source": [
        "## **Step 1 (1 points). Prepare the MNIST dataset**"
      ],
      "metadata": {
        "id": "_pI7KqNUMza2"
      }
    },
    {
      "cell_type": "markdown",
      "source": [
        "**Following the steps in:** Week 2-Lab I: Intro to Classification - Image classification, load the MNIST dataset from tensorflow package into python.\n",
        "\n",
        "**Requirement:** the MNIST image data should be prepared and saved into the following six variables (X_train, X_valid, X_test, y_train, y_valid, y_test) with proper dimensions."
      ],
      "metadata": {
        "id": "6yyxnlbQM5oZ"
      }
    },
    {
      "cell_type": "code",
      "execution_count": null,
      "metadata": {
        "colab": {
          "base_uri": "https://localhost:8080/"
        },
        "id": "6oXldsvZMp3W",
        "outputId": "075e7ecf-a2f1-463b-ca71-882528bac524"
      },
      "outputs": [
        {
          "output_type": "stream",
          "name": "stdout",
          "text": [
            "Downloading data from https://storage.googleapis.com/tensorflow/tf-keras-datasets/mnist.npz\n",
            "11493376/11490434 [==============================] - 0s 0us/step\n",
            "11501568/11490434 [==============================] - 0s 0us/step\n"
          ]
        }
      ],
      "source": [
        "# practice 1.1: load MNIST from tensorflow.keras\n",
        "import tensorflow as tf\n",
        "(x_train_full, y_train_full), (x_test, y_test) = tf.keras.datasets.mnist.load_data()"
      ]
    },
    {
      "cell_type": "code",
      "source": [
        "x_valid = x_train_full[:5000]\n",
        "y_valid = y_train_full[:5000]\n",
        "x_train = x_train_full[5000:]\n",
        "y_train = y_train_full[5000:]"
      ],
      "metadata": {
        "id": "6iBcQwZINNOw"
      },
      "execution_count": null,
      "outputs": []
    },
    {
      "cell_type": "code",
      "source": [
        "print(\"X_train.shape: \", x_train.shape)\n",
        "print(\"X_valid.shape: \", x_valid.shape)\n",
        "print(\"X_test.shape: \", x_test.shape)\n",
        "print(\"y_train.shape: \", y_train.shape)\n",
        "print(\"y_valid.shape: \", y_valid.shape)\n",
        "print(\"y_test.shape: \", y_test.shape)"
      ],
      "metadata": {
        "colab": {
          "base_uri": "https://localhost:8080/"
        },
        "id": "fmi0bWZzN0pF",
        "outputId": "76500981-8153-479d-8d45-e1c1ff138346"
      },
      "execution_count": null,
      "outputs": [
        {
          "output_type": "stream",
          "name": "stdout",
          "text": [
            "X_train.shape:  (55000, 28, 28)\n",
            "X_valid.shape:  (5000, 28, 28)\n",
            "X_test.shape:  (10000, 28, 28)\n",
            "y_train.shape:  (55000,)\n",
            "y_valid.shape:  (5000,)\n",
            "y_test.shape:  (10000,)\n"
          ]
        }
      ]
    },
    {
      "cell_type": "code",
      "source": [
        "train_sample = x_train.shape[0]\n",
        "valid_sample = x_valid.shape[0]\n",
        "test_sample = x_test.shape[0]\n",
        "width = x_train.shape[1]\n",
        "height = x_train.shape[2]\n",
        "x_train_flatten = x_train.reshape(train_sample, width*height)\n",
        "x_test_flatten = x_test.reshape(test_sample, width*height)\n",
        "x_valid_flatten = x_valid.reshape(valid_sample, width*height)"
      ],
      "metadata": {
        "id": "z4q4bg2zbdrd"
      },
      "execution_count": null,
      "outputs": []
    },
    {
      "cell_type": "code",
      "source": [
        "print(\"X_train_flatten.shape: \", x_train_flatten.shape)\n",
        "print(\"X_valid_flatten.shape: \", x_valid_flatten.shape)\n",
        "print(\"X_test_flatten.shape: \", x_test_flatten.shape)"
      ],
      "metadata": {
        "colab": {
          "base_uri": "https://localhost:8080/"
        },
        "id": "AjscN9APdZJO",
        "outputId": "d903bc56-9a0c-43bd-daa7-58288668d2f4"
      },
      "execution_count": null,
      "outputs": [
        {
          "output_type": "stream",
          "name": "stdout",
          "text": [
            "X_train_flatten.shape:  (55000, 784)\n",
            "X_valid_flatten.shape:  (5000, 784)\n",
            "X_test_flatten.shape:  (10000, 784)\n"
          ]
        }
      ]
    },
    {
      "cell_type": "code",
      "source": [
        "from tensorflow.keras.utils import to_categorical\n",
        "y_train_onehot = to_categorical(y_train,num_classes=10)\n",
        "y_test_onehot = to_categorical(y_test,num_classes=10)\n",
        "y_valid_onehot = to_categorical(y_valid,num_classes=10)"
      ],
      "metadata": {
        "id": "mceK2yFp-nnt"
      },
      "execution_count": null,
      "outputs": []
    },
    {
      "cell_type": "markdown",
      "source": [
        "## **Step 2 (2 points). Visualize the digit images**"
      ],
      "metadata": {
        "id": "8BM8eYVyOIzW"
      }
    },
    {
      "cell_type": "markdown",
      "source": [
        "**Requirement:** randomly select 9 instances from the training set, and write codes to visualize the instances as image using matplotlib. All the nine images should be organized into 3 by 3 grids using the function 'plt.subplot()' and save in the one figure."
      ],
      "metadata": {
        "id": "GcI3lDBXOS4s"
      }
    },
    {
      "cell_type": "code",
      "source": [
        "import matplotlib as mpl\n",
        "import matplotlib.pyplot as plt\n",
        "\n",
        "#1\n",
        "title = \"Digit: \"+str(y_train[12])\n",
        "plt.subplot(3,3,1)\n",
        "plt.axis(\"OFF\")\n",
        "plt.title(title)\n",
        "plt.imshow(x_train[12],cmap=mpl.cm.binary)\n",
        "\n",
        "#2\n",
        "title = \"Digit: \"+str(y_train[300])\n",
        "plt.subplot(3,3,2)\n",
        "plt.axis(\"OFF\")\n",
        "plt.title(title)\n",
        "plt.imshow(x_train[300],cmap=mpl.cm.binary)\n",
        "\n",
        "#3\n",
        "title = \"Digit: \"+str(y_train[129])\n",
        "plt.subplot(3,3,3)\n",
        "plt.axis(\"OFF\")\n",
        "plt.title(title)\n",
        "plt.imshow(x_train[129],cmap=mpl.cm.binary)\n",
        "\n",
        "#4\n",
        "title = \"Digit: \"+str(y_train[1225])\n",
        "plt.subplot(3,3,4)\n",
        "plt.axis(\"OFF\")\n",
        "plt.title(title)\n",
        "plt.imshow(x_train[1225],cmap=mpl.cm.binary)\n",
        "\n",
        "#5\n",
        "title = \"Digit: \"+str(y_train[10301])\n",
        "plt.subplot(3,3,5)\n",
        "plt.axis(\"OFF\")\n",
        "plt.title(title)\n",
        "plt.imshow(x_train[10301],cmap=mpl.cm.binary)\n",
        "\n",
        "#6\n",
        "title = \"Digit: \"+str(y_train[8436])\n",
        "plt.subplot(3,3,6)\n",
        "plt.axis(\"OFF\")\n",
        "plt.title(title)\n",
        "plt.imshow(x_train[8436],cmap=mpl.cm.binary)\n",
        "\n",
        "#7\n",
        "title = \"Digit: \"+str(y_train[2938])\n",
        "plt.subplot(3,3,7)\n",
        "plt.axis(\"OFF\")\n",
        "plt.title(title)\n",
        "plt.imshow(x_train[2938],cmap=mpl.cm.binary)\n",
        "\n",
        "#8\n",
        "title = \"Digit: \"+str(y_train[29123])\n",
        "plt.subplot(3,3,8)\n",
        "plt.axis(\"OFF\")\n",
        "plt.title(title)\n",
        "plt.imshow(x_train[29123],cmap=mpl.cm.binary)\n",
        "\n",
        "#9\n",
        "title = \"Digit: \"+str(y_train[54124])\n",
        "plt.subplot(3,3,9)\n",
        "plt.axis(\"OFF\")\n",
        "plt.title(title)\n",
        "plt.imshow(x_train[54124],cmap=mpl.cm.binary)"
      ],
      "metadata": {
        "colab": {
          "base_uri": "https://localhost:8080/",
          "height": 281
        },
        "id": "EbXyvO6RN6Le",
        "outputId": "9ed721b2-c346-47b7-8fd3-c160922bfa34"
      },
      "execution_count": null,
      "outputs": [
        {
          "output_type": "execute_result",
          "data": {
            "text/plain": [
              "<matplotlib.image.AxesImage at 0x7fba70d67f10>"
            ]
          },
          "metadata": {},
          "execution_count": 7
        },
        {
          "output_type": "display_data",
          "data": {
            "text/plain": [
              "<Figure size 432x288 with 9 Axes>"
            ],
            "image/png": "[encoded data removed]"
          },
          "metadata": {
            "needs_background": "light"
          }
        }
      ]
    },
    {
      "cell_type": "markdown",
      "source": [
        "## **Step 3 (2 points). Examine the frequency of classes in train, validation, and test set.**"
      ],
      "metadata": {
        "id": "fza_6vcGP9lF"
      }
    },
    {
      "cell_type": "markdown",
      "source": [
        "Write codes to check the number of samples for every class in train, validation, and test set. We need to check if the data set is balanced or imbalanced dataset. You can either print out the class frequency, or visualize the class frequency."
      ],
      "metadata": {
        "id": "dUQArRkrQL3s"
      }
    },
    {
      "cell_type": "code",
      "source": [
        "import pandas as pd\n",
        "train_labels = pd.DataFrame(y_train, columns = ['Label'])\n",
        "print(\"Frequency count for training set\")\n",
        "train_labels['Label'].value_counts()"
      ],
      "metadata": {
        "colab": {
          "base_uri": "https://localhost:8080/"
        },
        "id": "tSJt1hgRPSG4",
        "outputId": "064ac18d-f4d3-4c41-d511-9078ac70f340"
      },
      "execution_count": null,
      "outputs": [
        {
          "output_type": "stream",
          "name": "stdout",
          "text": [
            "Frequency count for training set\n"
          ]
        },
        {
          "output_type": "execute_result",
          "data": {
            "text/plain": [
              "1    6179\n",
              "7    5715\n",
              "3    5638\n",
              "2    5470\n",
              "9    5454\n",
              "0    5444\n",
              "6    5417\n",
              "8    5389\n",
              "4    5307\n",
              "5    4987\n",
              "Name: Label, dtype: int64"
            ]
          },
          "metadata": {},
          "execution_count": 8
        }
      ]
    },
    {
      "cell_type": "code",
      "source": [
        "import pandas as pd\n",
        "val_labels = pd.DataFrame(y_valid, columns = ['Label'])\n",
        "print(\"Frequency count for validation set\")\n",
        "val_labels['Label'].value_counts()"
      ],
      "metadata": {
        "colab": {
          "base_uri": "https://localhost:8080/"
        },
        "id": "R5E-AKNsQmi7",
        "outputId": "bac9c6d7-2ac4-4b23-bb3f-055fa18fc119"
      },
      "execution_count": null,
      "outputs": [
        {
          "output_type": "stream",
          "name": "stdout",
          "text": [
            "Frequency count for validation set\n"
          ]
        },
        {
          "output_type": "execute_result",
          "data": {
            "text/plain": [
              "1    563\n",
              "7    550\n",
              "4    535\n",
              "6    501\n",
              "9    495\n",
              "3    493\n",
              "2    488\n",
              "0    479\n",
              "8    462\n",
              "5    434\n",
              "Name: Label, dtype: int64"
            ]
          },
          "metadata": {},
          "execution_count": 9
        }
      ]
    },
    {
      "cell_type": "code",
      "source": [
        "import pandas as pd\n",
        "test_labels = pd.DataFrame(y_test, columns = ['Label'])\n",
        "print(\"Frequency count for test set\")\n",
        "test_labels['Label'].value_counts()"
      ],
      "metadata": {
        "colab": {
          "base_uri": "https://localhost:8080/"
        },
        "id": "FaPCm9VlQuyD",
        "outputId": "aeee3630-0a84-4afd-bd27-c0cbe0ba756c"
      },
      "execution_count": null,
      "outputs": [
        {
          "output_type": "stream",
          "name": "stdout",
          "text": [
            "Frequency count for test set\n"
          ]
        },
        {
          "output_type": "execute_result",
          "data": {
            "text/plain": [
              "1    1135\n",
              "2    1032\n",
              "7    1028\n",
              "3    1010\n",
              "9    1009\n",
              "4     982\n",
              "0     980\n",
              "8     974\n",
              "6     958\n",
              "5     892\n",
              "Name: Label, dtype: int64"
            ]
          },
          "metadata": {},
          "execution_count": 10
        }
      ]
    },
    {
      "cell_type": "code",
      "source": [
        "import matplotlib.pyplot as plt\n",
        "plt.subplot(1,3,1)\n",
        "plt.title(\"Bar chart for train labels\",fontsize=20)\n",
        "plt.xlabel('Category',fontsize=15)\n",
        "plt.ylabel('Frequency',fontsize=15)\n",
        "train_labels['Label'].value_counts().plot(kind='bar',figsize=(20,5))\n",
        "plt.subplot(1,3,2)\n",
        "plt.title(\"Bar chart for validation labels\",fontsize=20)\n",
        "plt.xlabel('Category',fontsize=15)\n",
        "val_labels['Label'].value_counts().plot(kind='bar',figsize=(20,5))\n",
        "plt.subplot(1,3,3)\n",
        "plt.title(\"Bar chart for test labels\",fontsize=20)\n",
        "plt.xlabel('Category',fontsize=15)\n",
        "test_labels['Label'].value_counts().plot(kind='bar',figsize=(20,5))\n",
        "plt.show()"
      ],
      "metadata": {
        "colab": {
          "base_uri": "https://localhost:8080/",
          "height": 337
        },
        "id": "-BcTqmXPQ1Tf",
        "outputId": "aaf2c96e-6f0a-4724-a44b-eccbed570067"
      },
      "execution_count": null,
      "outputs": [
        {
          "output_type": "display_data",
          "data": {
            "text/plain": [
              "<Figure size 1440x360 with 3 Axes>"
            ],
            "image/png": "[encoded data removed]"
          },
          "metadata": {
            "needs_background": "light"
          }
        }
      ]
    },
    {
      "cell_type": "code",
      "source": [
        "plt.subplot(1,3,1)\n",
        "plt.title(\"Pie chart for train labels\",fontsize=20)\n",
        "train_labels['Label'].value_counts().plot(kind='pie',figsize=(20,20))\n",
        "plt.subplot(1,3,2)\n",
        "plt.title(\"Pie chart for validation labels\",fontsize=20)\n",
        "val_labels['Label'].value_counts().plot(kind='pie',figsize=(20,20))\n",
        "plt.subplot(1,3,3)\n",
        "plt.title(\"Pie chart for test labels\",fontsize=20)\n",
        "test_labels['Label'].value_counts().plot(kind='pie',figsize=(20,20))\n",
        "plt.show()"
      ],
      "metadata": {
        "colab": {
          "base_uri": "https://localhost:8080/",
          "height": 370
        },
        "id": "VzxYt8njQ4SV",
        "outputId": "ee2a0748-1bf8-49d3-c4b9-0262dd89017d"
      },
      "execution_count": null,
      "outputs": [
        {
          "output_type": "display_data",
          "data": {
            "text/plain": [
              "<Figure size 1440x1440 with 3 Axes>"
            ],
            "image/png": "[encoded data removed]"
          },
          "metadata": {}
        }
      ]
    },
    {
      "cell_type": "markdown",
      "source": [
        "## **Step 4: (20 points) Build several classification models.  You need to fit each machine learning model on the training set (55000 images) and make predictions on the validation set (5000 images) and  test set (5000 images).**"
      ],
      "metadata": {
        "id": "0pVsiKXAQ_4w"
      }
    },
    {
      "cell_type": "markdown",
      "source": [
        "(1) Softmax regression (Refer to sample codes in Textbook: P148-151)"
      ],
      "metadata": {
        "id": "nkMhCMwtUvFu"
      }
    },
    {
      "cell_type": "code",
      "source": [
        "from sklearn.linear_model import LogisticRegression\n",
        "softmax_model = LogisticRegression(multi_class='multinomial', solver='lbfgs', C=10)"
      ],
      "metadata": {
        "id": "iCr1ebZtQ7s3"
      },
      "execution_count": null,
      "outputs": []
    },
    {
      "cell_type": "markdown",
      "source": [
        "(2) KNearest-neighbors (Refer to steps in Hw02: Build ML workflow for image classification)"
      ],
      "metadata": {
        "id": "eC-kBGvGVgxk"
      }
    },
    {
      "cell_type": "code",
      "source": [
        "from sklearn.neighbors import KNeighborsClassifier\n",
        "knn_model = KNeighborsClassifier(n_neighbors = 3, metric = 'euclidean')"
      ],
      "metadata": {
        "id": "S4-jpMHYVAQs"
      },
      "execution_count": null,
      "outputs": []
    },
    {
      "cell_type": "markdown",
      "source": [
        "(3) Deep Neural Network (Refer to sample codes in Textbook: P299-308, P341-344 and steps in Week 4-Lab II: SoftmaxClassifier & Neural Network)"
      ],
      "metadata": {
        "id": "g5yXjzbwV0Bo"
      }
    },
    {
      "cell_type": "code",
      "source": [
        "from keras.models import Sequential\n",
        "from keras.layers import Dense\n",
        "deep_neural_model = Sequential()\n",
        "deep_neural_model.add(Dense(1000, input_shape=(784,), activation=\"relu\"))\n",
        "deep_neural_model.add(Dense(1000,activation=\"relu\"))\n",
        "deep_neural_model.add(Dense(1000,activation=\"relu\"))\n",
        "deep_neural_model.add(Dense(10,activation=\"softmax\"))\n",
        "deep_neural_model.compile(loss='categorical_crossentropy',optimizer='adam',metrics=['accuracy'])\n",
        "deep_neural_model.summary()"
      ],
      "metadata": {
        "colab": {
          "base_uri": "https://localhost:8080/"
        },
        "id": "jGP4gUC3VzX3",
        "outputId": "7f8de621-85f7-4fcf-a6a1-6270f84f4b19"
      },
      "execution_count": null,
      "outputs": [
        {
          "output_type": "stream",
          "name": "stdout",
          "text": [
            "Model: \"sequential\"\n",
            "_________________________________________________________________\n",
            " Layer (type)                Output Shape              Param #   \n",
            "=================================================================\n",
            " dense (Dense)               (None, 1000)              785000    \n",
            "                                                                 \n",
            " dense_1 (Dense)             (None, 1000)              1001000   \n",
            "                                                                 \n",
            " dense_2 (Dense)             (None, 1000)              1001000   \n",
            "                                                                 \n",
            " dense_3 (Dense)             (None, 10)                10010     \n",
            "                                                                 \n",
            "=================================================================\n",
            "Total params: 2,797,010\n",
            "Trainable params: 2,797,010\n",
            "Non-trainable params: 0\n",
            "_________________________________________________________________\n"
          ]
        }
      ]
    },
    {
      "cell_type": "markdown",
      "source": [
        "(4) Support Vector Machine  (Refer to sample codes in Textbook: P153-160)"
      ],
      "metadata": {
        "id": "UANh1JkeWl0L"
      }
    },
    {
      "cell_type": "code",
      "source": [
        "from sklearn.pipeline import Pipeline\n",
        "from sklearn.preprocessing import StandardScaler,PolynomialFeatures\n",
        "from sklearn.svm import LinearSVC\n",
        "svm_clf =  Pipeline([\n",
        " (\"poly_features\", PolynomialFeatures(degree=3)),\n",
        " (\"scaler\", StandardScaler()),\n",
        " (\"svm_clf\", LinearSVC(C=10, loss=\"hinge\"))\n",
        " ])"
      ],
      "metadata": {
        "id": "JJjStff4WYAz"
      },
      "execution_count": null,
      "outputs": []
    },
    {
      "cell_type": "markdown",
      "source": [
        "(5) Decision Tree  (Refer to sample codes in Textbook: P175-179)"
      ],
      "metadata": {
        "id": "Bvr3H5Z0hWFN"
      }
    },
    {
      "cell_type": "code",
      "source": [
        "from sklearn.tree import DecisionTreeClassifier\n",
        "tree_clf = DecisionTreeClassifier(max_depth=10)"
      ],
      "metadata": {
        "id": "YXMrGXPZbCzm"
      },
      "execution_count": null,
      "outputs": []
    },
    {
      "cell_type": "markdown",
      "source": [
        "(6) Random Forest  (Refer to sample codes in Textbook: P189-197)"
      ],
      "metadata": {
        "id": "hjWE9ETmiEcj"
      }
    },
    {
      "cell_type": "code",
      "source": [
        "from sklearn.ensemble import RandomForestClassifier\n",
        "rf_clf=RandomForestClassifier(n_estimators=100)"
      ],
      "metadata": {
        "id": "2hXaJYJIiJ3O"
      },
      "execution_count": null,
      "outputs": []
    },
    {
      "cell_type": "markdown",
      "source": [
        "(7) Convolutional Neural Network  (Refer to sample codes in Textbook: P460-462, and steps in Week 5-LabI: class practice for neural network training)"
      ],
      "metadata": {
        "id": "lpkHeTGViz2u"
      }
    },
    {
      "cell_type": "code",
      "source": [
        "import tensorflow as tf\n",
        "cnn_model = tf.keras.models.Sequential([\n",
        "    tf.keras.layers.Conv2D(32, (5,5), padding='same', activation='relu', input_shape=(28,28,1)),\n",
        "    tf.keras.layers.Conv2D(32, (5,5), padding='same', activation='relu'),\n",
        "    tf.keras.layers.MaxPool2D(),\n",
        "    tf.keras.layers.Dropout(0.25),\n",
        "    tf.keras.layers.Conv2D(64, (3,3), padding='same', activation='relu'),\n",
        "    tf.keras.layers.Conv2D(64, (3,3), padding='same', activation='relu'),\n",
        "    tf.keras.layers.MaxPool2D(strides=(2,2)),\n",
        "    tf.keras.layers.Dropout(0.25),\n",
        "    tf.keras.layers.Flatten(),\n",
        "    tf.keras.layers.Dense(128, activation='relu'),\n",
        "    tf.keras.layers.Dropout(0.5),\n",
        "    tf.keras.layers.Dense(10, activation='softmax')\n",
        "])\n",
        "cnn_model.compile(loss='categorical_crossentropy',optimizer='adam',metrics=['accuracy'])\n",
        "cnn_model.summary()"
      ],
      "metadata": {
        "colab": {
          "base_uri": "https://localhost:8080/"
        },
        "id": "dfFgxp7IizIN",
        "outputId": "4dd59bc4-5ffe-47cf-e0ba-a23722563d66"
      },
      "execution_count": null,
      "outputs": [
        {
          "output_type": "stream",
          "name": "stdout",
          "text": [
            "Model: \"sequential_1\"\n",
            "_________________________________________________________________\n",
            " Layer (type)                Output Shape              Param #   \n",
            "=================================================================\n",
            " conv2d (Conv2D)             (None, 28, 28, 32)        832       \n",
            "                                                                 \n",
            " conv2d_1 (Conv2D)           (None, 28, 28, 32)        25632     \n",
            "                                                                 \n",
            " max_pooling2d (MaxPooling2D  (None, 14, 14, 32)       0         \n",
            " )                                                               \n",
            "                                                                 \n",
            " dropout (Dropout)           (None, 14, 14, 32)        0         \n",
            "                                                                 \n",
            " conv2d_2 (Conv2D)           (None, 14, 14, 64)        18496     \n",
            "                                                                 \n",
            " conv2d_3 (Conv2D)           (None, 14, 14, 64)        36928     \n",
            "                                                                 \n",
            " max_pooling2d_1 (MaxPooling  (None, 7, 7, 64)         0         \n",
            " 2D)                                                             \n",
            "                                                                 \n",
            " dropout_1 (Dropout)         (None, 7, 7, 64)          0         \n",
            "                                                                 \n",
            " flatten (Flatten)           (None, 3136)              0         \n",
            "                                                                 \n",
            " dense_4 (Dense)             (None, 128)               401536    \n",
            "                                                                 \n",
            " dropout_2 (Dropout)         (None, 128)               0         \n",
            "                                                                 \n",
            " dense_5 (Dense)             (None, 10)                1290      \n",
            "                                                                 \n",
            "=================================================================\n",
            "Total params: 484,714\n",
            "Trainable params: 484,714\n",
            "Non-trainable params: 0\n",
            "_________________________________________________________________\n"
          ]
        }
      ]
    },
    {
      "cell_type": "markdown",
      "source": [
        "### **Task 4.1: Proper feature scaling (Standardization  or Min-Max normalization) on the training, validation and test set**"
      ],
      "metadata": {
        "id": "vzqt5HFunuFw"
      }
    },
    {
      "cell_type": "code",
      "source": [
        "from sklearn.preprocessing import MinMaxScaler\n",
        "scaler = MinMaxScaler()\n",
        "scaler.fit(x_train_flatten)\n",
        "x_train_scaled = scaler.transform(x_train_flatten)\n",
        "x_test_scaled = scaler.transform(x_test_flatten)\n",
        "x_valid_scaled = scaler.transform(x_valid_flatten)"
      ],
      "metadata": {
        "id": "tQN-4JS6ntyl"
      },
      "execution_count": null,
      "outputs": []
    },
    {
      "cell_type": "markdown",
      "source": [
        "### **Task 4.2: Report running time of model training for all methods above.**"
      ],
      "metadata": {
        "id": "lOihoOE8n1Y4"
      }
    },
    {
      "cell_type": "markdown",
      "source": [
        "Softmax regression"
      ],
      "metadata": {
        "id": "s4uvt1xZ8A36"
      }
    },
    {
      "cell_type": "code",
      "source": [
        "import time\n",
        "start = time.time()\n",
        "softmax_model.fit(x_train_flatten,y_train)\n",
        "end = time.time()\n",
        "softmax_time_duration = end-start"
      ],
      "metadata": {
        "colab": {
          "base_uri": "https://localhost:8080/"
        },
        "id": "gEyS-Mp1n93d",
        "outputId": "a4b6a8ba-89e5-4f7e-90c7-9091d2da4c54"
      },
      "execution_count": null,
      "outputs": [
        {
          "output_type": "stream",
          "name": "stderr",
          "text": [
            "/usr/local/lib/python3.7/dist-packages/sklearn/linear_model/_logistic.py:818: ConvergenceWarning: lbfgs failed to converge (status=1):\n",
            "STOP: TOTAL NO. of ITERATIONS REACHED LIMIT.\n",
            "\n",
            "Increase the number of iterations (max_iter) or scale the data as shown in:\n",
            "    https://scikit-learn.org/stable/modules/preprocessing.html\n",
            "Please also refer to the documentation for alternative solver options:\n",
            "    https://scikit-learn.org/stable/modules/linear_model.html#logistic-regression\n",
            "  extra_warning_msg=_LOGISTIC_SOLVER_CONVERGENCE_MSG,\n"
          ]
        }
      ]
    },
    {
      "cell_type": "code",
      "source": [
        "print(\"Program finishes in {} seconds:\".format(softmax_time_duration))"
      ],
      "metadata": {
        "colab": {
          "base_uri": "https://localhost:8080/"
        },
        "id": "fJFOUNzBIXhu",
        "outputId": "a2359203-7e6f-481c-b5a2-991fc25912a9"
      },
      "execution_count": null,
      "outputs": [
        {
          "output_type": "stream",
          "name": "stdout",
          "text": [
            "Program finishes in 38.03665018081665 seconds:\n"
          ]
        }
      ]
    },
    {
      "cell_type": "markdown",
      "source": [
        "KNearest-neighbors"
      ],
      "metadata": {
        "id": "RtL6ws2F89AY"
      }
    },
    {
      "cell_type": "code",
      "source": [
        "import time\n",
        "start = time.time()\n",
        "knn_model.fit(x_train_flatten,y_train)\n",
        "end = time.time()\n",
        "knn_time_duration = end-start"
      ],
      "metadata": {
        "id": "0VlocnNX89Zq"
      },
      "execution_count": null,
      "outputs": []
    },
    {
      "cell_type": "code",
      "source": [
        "print(\"Program finishes in {} seconds:\".format(knn_time_duration))"
      ],
      "metadata": {
        "colab": {
          "base_uri": "https://localhost:8080/"
        },
        "id": "6dYeR2KHIi6x",
        "outputId": "8eb9d7b2-144a-4ca5-ee98-7912c68db491"
      },
      "execution_count": null,
      "outputs": [
        {
          "output_type": "stream",
          "name": "stdout",
          "text": [
            "Program finishes in 0.009105920791625977 seconds:\n"
          ]
        }
      ]
    },
    {
      "cell_type": "markdown",
      "source": [
        "Deep Neural Network"
      ],
      "metadata": {
        "id": "l9iLOBLf-OAi"
      }
    },
    {
      "cell_type": "code",
      "source": [
        "import time\n",
        "start = time.time()\n",
        "deep_neural_model.fit(x_train_flatten,y_train_onehot,epochs=20,batch_size=128,validation_data=(x_valid_flatten,y_valid_onehot))\n",
        "end = time.time()\n",
        "deep_neural_time_duration = end-start"
      ],
      "metadata": {
        "colab": {
          "base_uri": "https://localhost:8080/"
        },
        "id": "QmTVNP8k-TVT",
        "outputId": "82bf5aa6-bc6f-488e-ed77-83bb66359ca6"
      },
      "execution_count": null,
      "outputs": [
        {
          "output_type": "stream",
          "name": "stdout",
          "text": [
            "Epoch 1/20\n",
            "430/430 [==============================] - 23s 52ms/step - loss: 3.2083 - accuracy: 0.9034 - val_loss: 0.1775 - val_accuracy: 0.9494\n",
            "Epoch 2/20\n",
            "430/430 [==============================] - 22s 51ms/step - loss: 0.1230 - accuracy: 0.9637 - val_loss: 0.1399 - val_accuracy: 0.9652\n",
            "Epoch 3/20\n",
            "430/430 [==============================] - 23s 54ms/step - loss: 0.0895 - accuracy: 0.9734 - val_loss: 0.1573 - val_accuracy: 0.9580\n",
            "Epoch 4/20\n",
            "430/430 [==============================] - 24s 56ms/step - loss: 0.0894 - accuracy: 0.9735 - val_loss: 0.1393 - val_accuracy: 0.9678\n",
            "Epoch 5/20\n",
            "430/430 [==============================] - 26s 60ms/step - loss: 0.0794 - accuracy: 0.9773 - val_loss: 0.1713 - val_accuracy: 0.9602\n",
            "Epoch 6/20\n",
            "430/430 [==============================] - 22s 51ms/step - loss: 0.0690 - accuracy: 0.9798 - val_loss: 0.1267 - val_accuracy: 0.9654\n",
            "Epoch 7/20\n",
            "430/430 [==============================] - 23s 53ms/step - loss: 0.0706 - accuracy: 0.9793 - val_loss: 0.1359 - val_accuracy: 0.9716\n",
            "Epoch 8/20\n",
            "430/430 [==============================] - 23s 53ms/step - loss: 0.0674 - accuracy: 0.9817 - val_loss: 0.1331 - val_accuracy: 0.9704\n",
            "Epoch 9/20\n",
            "430/430 [==============================] - 23s 53ms/step - loss: 0.0563 - accuracy: 0.9836 - val_loss: 0.1346 - val_accuracy: 0.9692\n",
            "Epoch 10/20\n",
            "430/430 [==============================] - 23s 53ms/step - loss: 0.0679 - accuracy: 0.9819 - val_loss: 0.1130 - val_accuracy: 0.9756\n",
            "Epoch 11/20\n",
            "430/430 [==============================] - 22s 51ms/step - loss: 0.0567 - accuracy: 0.9846 - val_loss: 0.1196 - val_accuracy: 0.9738\n",
            "Epoch 12/20\n",
            "430/430 [==============================] - 39s 90ms/step - loss: 0.0573 - accuracy: 0.9839 - val_loss: 0.1377 - val_accuracy: 0.9730\n",
            "Epoch 13/20\n",
            "430/430 [==============================] - 23s 53ms/step - loss: 0.0564 - accuracy: 0.9852 - val_loss: 0.1206 - val_accuracy: 0.9738\n",
            "Epoch 14/20\n",
            "430/430 [==============================] - 22s 51ms/step - loss: 0.0563 - accuracy: 0.9856 - val_loss: 0.1534 - val_accuracy: 0.9724\n",
            "Epoch 15/20\n",
            "430/430 [==============================] - 22s 51ms/step - loss: 0.0506 - accuracy: 0.9861 - val_loss: 0.1380 - val_accuracy: 0.9756\n",
            "Epoch 16/20\n",
            "430/430 [==============================] - 22s 51ms/step - loss: 0.0519 - accuracy: 0.9867 - val_loss: 0.1476 - val_accuracy: 0.9718\n",
            "Epoch 17/20\n",
            "430/430 [==============================] - 24s 56ms/step - loss: 0.0695 - accuracy: 0.9831 - val_loss: 0.1292 - val_accuracy: 0.9762\n",
            "Epoch 18/20\n",
            "430/430 [==============================] - 21s 50ms/step - loss: 0.0396 - accuracy: 0.9889 - val_loss: 0.1158 - val_accuracy: 0.9780\n",
            "Epoch 19/20\n",
            "430/430 [==============================] - 22s 51ms/step - loss: 0.0420 - accuracy: 0.9898 - val_loss: 0.1434 - val_accuracy: 0.9716\n",
            "Epoch 20/20\n",
            "430/430 [==============================] - 22s 51ms/step - loss: 0.0452 - accuracy: 0.9897 - val_loss: 0.1313 - val_accuracy: 0.9754\n"
          ]
        }
      ]
    },
    {
      "cell_type": "code",
      "source": [
        "print(\"Program finishes in {} seconds:\".format(deep_neural_time_duration))"
      ],
      "metadata": {
        "colab": {
          "base_uri": "https://localhost:8080/"
        },
        "id": "zflX54ydImxq",
        "outputId": "433a02c8-744d-4b1c-bb40-08dbfeef0322"
      },
      "execution_count": null,
      "outputs": [
        {
          "output_type": "stream",
          "name": "stdout",
          "text": [
            "Program finishes in 469.9844460487366 seconds:\n"
          ]
        }
      ]
    },
    {
      "cell_type": "markdown",
      "source": [
        "Support Vector Machine"
      ],
      "metadata": {
        "id": "Q7-ViShPDtjE"
      }
    },
    {
      "cell_type": "code",
      "source": [
        "import time\n",
        "start = time.time()\n",
        "svm_clf.fit(x_train_flatten,y_train)\n",
        "end = time.time()\n",
        "svm_time_duration = end-start"
      ],
      "metadata": {
        "id": "eogZq1tTDyrt"
      },
      "execution_count": null,
      "outputs": []
    },
    {
      "cell_type": "code",
      "source": [
        "print(\"Program finishes in {} seconds:\".format(svm_time_duration))"
      ],
      "metadata": {
        "id": "oBeR6SV2IrlZ"
      },
      "execution_count": null,
      "outputs": []
    },
    {
      "cell_type": "markdown",
      "source": [
        "Decision Tree"
      ],
      "metadata": {
        "id": "pk2sC-5vEIXo"
      }
    },
    {
      "cell_type": "code",
      "source": [
        "import time\n",
        "start = time.time()\n",
        "tree_clf.fit(x_train_flatten,y_train)\n",
        "end = time.time()\n",
        "tree_time_duration = end-start"
      ],
      "metadata": {
        "id": "8rgJ-JlXEMz6"
      },
      "execution_count": null,
      "outputs": []
    },
    {
      "cell_type": "code",
      "source": [
        "print(\"Program finishes in {} seconds:\".format(tree_time_duration))"
      ],
      "metadata": {
        "id": "3zRkmDPhIuwK"
      },
      "execution_count": null,
      "outputs": []
    },
    {
      "cell_type": "markdown",
      "source": [
        "Random Forest"
      ],
      "metadata": {
        "id": "39Vmx0CEF01z"
      }
    },
    {
      "cell_type": "code",
      "source": [
        "import time\n",
        "start = time.time()\n",
        "rf_clf.fit(x_train_flatten,y_train)\n",
        "end = time.time()\n",
        "rf_time_duration = end-start"
      ],
      "metadata": {
        "id": "s3AO6KxnF6vN"
      },
      "execution_count": null,
      "outputs": []
    },
    {
      "cell_type": "code",
      "source": [
        "print(\"Program finishes in {} seconds:\".format(rf_time_duration))"
      ],
      "metadata": {
        "id": "fO_r5hkRIyl6"
      },
      "execution_count": null,
      "outputs": []
    },
    {
      "cell_type": "markdown",
      "source": [
        "Convolutional Neural Network"
      ],
      "metadata": {
        "id": "7DXLasLQF_7Q"
      }
    },
    {
      "cell_type": "code",
      "source": [
        "import time\n",
        "start = time.time()\n",
        "cnn_model.fit(x_train,y_train_onehot,epochs=20,batch_size=128,validation_data=(x_valid,y_valid_onehot))\n",
        "end = time.time()\n",
        "cnn_time_duration = end-start"
      ],
      "metadata": {
        "id": "aBM2dPHIGFOQ"
      },
      "execution_count": null,
      "outputs": []
    },
    {
      "cell_type": "code",
      "source": [
        "print(\"Program finishes in {} seconds:\".format(cnn_time_duration))"
      ],
      "metadata": {
        "id": "CEbdl1VyI2J-"
      },
      "execution_count": null,
      "outputs": []
    },
    {
      "cell_type": "markdown",
      "source": [
        "### **Task 4.3: Calculate the overall accuracy of the predictions over training set, validation set and test set.**"
      ],
      "metadata": {
        "id": "70nkrtN_n-QI"
      }
    },
    {
      "cell_type": "markdown",
      "source": [
        "Softmax regression"
      ],
      "metadata": {
        "id": "x6CGKBfjI6WB"
      }
    },
    {
      "cell_type": "code",
      "source": [
        "y_train_predicted_softmax = softmax_model.predict(x_train_flatten)\n",
        "y_valid_predicted_softmax = softmax_model.predict(x_valid_flatten)\n",
        "y_test_predicted_softmax = softmax_model.predict(x_test_flatten)"
      ],
      "metadata": {
        "id": "rSp8X4_RoEbB"
      },
      "execution_count": null,
      "outputs": []
    },
    {
      "cell_type": "code",
      "source": [
        "from sklearn.metrics import accuracy_score\n",
        "trainAcc_softmax = accuracy_score(y_train, y_train_predicted_softmax)\n",
        "validAcc_softmax = accuracy_score(y_valid,y_valid_predicted_softmax)\n",
        "testAcc_softmax = accuracy_score(y_test,y_test_predicted_softmax)\n",
        "print(\"Accuracy score of train set: \",trainAcc_softmax)\n",
        "print(\"Accuracy score of Validation set: \",validAcc_softmax)\n",
        "print(\"Accuracy score of test set: \",testAcc_softmax)"
      ],
      "metadata": {
        "id": "CvW74oPoJtId"
      },
      "execution_count": null,
      "outputs": []
    },
    {
      "cell_type": "markdown",
      "source": [
        "KNearest-neighbors"
      ],
      "metadata": {
        "id": "mbI19O7VI-0x"
      }
    },
    {
      "cell_type": "code",
      "source": [
        "y_train_predicted_knn = knn_model.predict(x_train_flatten)\n",
        "y_valid_predicted_knn = knn_model.predict(x_valid_flatten)\n",
        "y_test_predicted_knn = knn_model.predict(x_test_flatten)"
      ],
      "metadata": {
        "id": "CCZ2L90RJB99"
      },
      "execution_count": null,
      "outputs": []
    },
    {
      "cell_type": "code",
      "source": [
        "from sklearn.metrics import accuracy_score\n",
        "trainAcc_knn = accuracy_score(y_train, y_train_predicted_knn)\n",
        "validAcc_knn = accuracy_score(y_valid,y_valid_predicted_knn)\n",
        "testAcc_knn = accuracy_score(y_test,y_test_predicted_knn)\n",
        "print(\"Accuracy score of train set: \",trainAcc_knn)\n",
        "print(\"Accuracy score of Validation set: \",validAcc_knn)\n",
        "print(\"Accuracy score of test set: \",testAcc_knn)"
      ],
      "metadata": {
        "id": "aHQgGPImKys9"
      },
      "execution_count": null,
      "outputs": []
    },
    {
      "cell_type": "markdown",
      "source": [
        "Deep Neural Network"
      ],
      "metadata": {
        "id": "9R7VRSGzJCWf"
      }
    },
    {
      "cell_type": "code",
      "source": [
        "import numpy as np\n",
        "y_train_predicted_deepNeural = np.argmax(deep_neural_model.predict(x_train_flatten),axis=1)\n",
        "y_valid_predicted_deepNeural = np.argmax(deep_neural_model.predict(x_valid_flatten),axis=1)\n",
        "y_test_predicted_deepNeural = np.argmax(deep_neural_model.predict(x_test_flatten),axis=1)"
      ],
      "metadata": {
        "id": "x-LAOgxdJFBW"
      },
      "execution_count": null,
      "outputs": []
    },
    {
      "cell_type": "code",
      "source": [
        "from sklearn.metrics import accuracy_score\n",
        "trainAcc_deepNeural = accuracy_score(y_train, y_train_predicted_deepNeural)\n",
        "validAcc_deepNeural = accuracy_score(y_valid,y_valid_predicted_deepNeural)\n",
        "testAcc_deepNeural = accuracy_score(y_test,y_test_predicted_deepNeural)\n",
        "print(\"Accuracy score of train set: \",trainAcc_deepNeural)\n",
        "print(\"Accuracy score of Validation set: \",validAcc_deepNeural)\n",
        "print(\"Accuracy score of test set: \",testAcc_deepNeural)"
      ],
      "metadata": {
        "id": "6QR9n5oWL-0k"
      },
      "execution_count": null,
      "outputs": []
    },
    {
      "cell_type": "markdown",
      "source": [
        "Support Vector Machine"
      ],
      "metadata": {
        "id": "yaILyTv_JFzz"
      }
    },
    {
      "cell_type": "code",
      "source": [
        "#y_train_predicted_softmax = softmax_model.predict(x_train_flatten)\n",
        "#y_valid_predicted_softmax = softmax_model.predict(x_valid_flatten)\n",
        "#y_test_predicted_softmax = softmax_model.predict(x_test_flatten)"
      ],
      "metadata": {
        "id": "v7xFCC-CJIgI"
      },
      "execution_count": null,
      "outputs": []
    },
    {
      "cell_type": "markdown",
      "source": [
        "Decision Tree"
      ],
      "metadata": {
        "id": "ao85R-yMJI6M"
      }
    },
    {
      "cell_type": "code",
      "source": [
        "y_train_predicted_tree = tree_clf.predict(x_train_flatten)\n",
        "y_valid_predicted_tree = tree_clf.predict(x_valid_flatten)\n",
        "y_test_predicted_tree = tree_clf.predict(x_test_flatten)"
      ],
      "metadata": {
        "id": "lbE9pQaFJM12"
      },
      "execution_count": null,
      "outputs": []
    },
    {
      "cell_type": "code",
      "source": [
        "from sklearn.metrics import accuracy_score\n",
        "trainAcc_tree = accuracy_score(y_train, y_train_predicted_tree)\n",
        "validAcc_tree = accuracy_score(y_valid,y_valid_predicted_tree)\n",
        "testAcc_tree = accuracy_score(y_test,y_test_predicted_tree)\n",
        "print(\"Accuracy score of train set: \",trainAcc_tree)\n",
        "print(\"Accuracy score of Validation set: \",validAcc_tree)\n",
        "print(\"Accuracy score of test set: \",testAcc_tree)"
      ],
      "metadata": {
        "id": "5pmAddCONho6"
      },
      "execution_count": null,
      "outputs": []
    },
    {
      "cell_type": "markdown",
      "source": [
        "Random Forest"
      ],
      "metadata": {
        "id": "H2x3XM56JNab"
      }
    },
    {
      "cell_type": "code",
      "source": [
        "y_train_predicted_rf = rf_clf.predict(x_train_flatten)\n",
        "y_valid_predicted_rf = rf_clf.predict(x_valid_flatten)\n",
        "y_test_predicted_rf = rf_clf.predict(x_test_flatten)"
      ],
      "metadata": {
        "id": "DnaSyQhgJP9w"
      },
      "execution_count": null,
      "outputs": []
    },
    {
      "cell_type": "code",
      "source": [
        "from sklearn.metrics import accuracy_score\n",
        "trainAcc_rf = accuracy_score(y_train, y_train_predicted_rf)\n",
        "validAcc_rf = accuracy_score(y_valid,y_valid_predicted_rf)\n",
        "testAcc_rf = accuracy_score(y_test,y_test_predicted_rf)\n",
        "print(\"Accuracy score of train set: \",trainAcc_rf)\n",
        "print(\"Accuracy score of Validation set: \",validAcc_rf)\n",
        "print(\"Accuracy score of test set: \",testAcc_rf)"
      ],
      "metadata": {
        "id": "GxfmC5FrOPw2"
      },
      "execution_count": null,
      "outputs": []
    },
    {
      "cell_type": "markdown",
      "source": [
        " Convolutional Neural Network"
      ],
      "metadata": {
        "id": "_EaplPGRJQXK"
      }
    },
    {
      "cell_type": "code",
      "source": [
        "import numpy as np\n",
        "y_train_predicted_cnn = np.argmax(cnn_model.predict(x_train),axis=1)\n",
        "y_valid_predicted_cnn = np.argmax(cnn_model.predict(x_valid),axis=1)\n",
        "y_test_predicted_cnn = np.argmax(cnn_model.predict(x_test),axis=1)"
      ],
      "metadata": {
        "id": "pr85i66aJUiO"
      },
      "execution_count": null,
      "outputs": []
    },
    {
      "cell_type": "code",
      "source": [
        "from sklearn.metrics import accuracy_score\n",
        "trainAcc_cnn = accuracy_score(y_train, y_train_predicted_cnn)\n",
        "validAcc_cnn = accuracy_score(y_valid,y_valid_predicted_cnn)\n",
        "testAcc_cnn = accuracy_score(y_test,y_test_predicted_cnn)\n",
        "print(\"Accuracy score of train set: \",trainAcc_cnn)\n",
        "print(\"Accuracy score of Validation set: \",validAcc_cnn)\n",
        "print(\"Accuracy score of test set: \",testAcc_cnn)"
      ],
      "metadata": {
        "id": "uO7VfPyDO-Gb"
      },
      "execution_count": null,
      "outputs": []
    },
    {
      "cell_type": "markdown",
      "source": [
        "### **Task 4.4: Calculate the per-class accuracy of the predictions over training set, validation set and test set.**\n",
        " For instance, among images of every class, how many of them are correctly predicted."
      ],
      "metadata": {
        "id": "zf9pcBY0oFCe"
      }
    },
    {
      "cell_type": "markdown",
      "source": [
        "Softmax regression"
      ],
      "metadata": {
        "id": "1CTdaQweQNMt"
      }
    },
    {
      "cell_type": "code",
      "source": [
        "import numpy as np\n",
        "from sklearn.metrics import confusion_matrix\n",
        "matrix = confusion_matrix(y_train, y_train_predicted_softmax)\n",
        "print(\"Per-class accuracy of train set:\")\n",
        "dia=np.diagonal(matrix)\n",
        "c=len(matrix)\n",
        "for i in range(0,c):\n",
        "  sum=0\n",
        "  for j in range(0,c):\n",
        "    sum=sum+matrix[i][j]\n",
        "  accur=dia[i]/sum\n",
        "  print('Accuracy of label ',i,'is:',round(accur,6),'(',round((accur*100),3),'%)')"
      ],
      "metadata": {
        "id": "44jDMY1wQQTN"
      },
      "execution_count": null,
      "outputs": []
    },
    {
      "cell_type": "code",
      "source": [
        "import numpy as np\n",
        "from sklearn.metrics import confusion_matrix\n",
        "matrix = confusion_matrix(y_valid, y_valid_predicted_softmax)\n",
        "print(\"Per-class accuracy of validation set:\")\n",
        "dia=np.diagonal(matrix)\n",
        "c=len(matrix)\n",
        "for i in range(0,c):\n",
        "  sum=0\n",
        "  for j in range(0,c):\n",
        "    sum=sum+matrix[i][j]\n",
        "  accur=dia[i]/sum\n",
        "  print('Accuracy of label ',i,'is:',round(accur,6),'(',round((accur*100),3),'%)')"
      ],
      "metadata": {
        "id": "jg1m4j7WRiFn"
      },
      "execution_count": null,
      "outputs": []
    },
    {
      "cell_type": "code",
      "source": [
        "import numpy as np\n",
        "from sklearn.metrics import confusion_matrix\n",
        "matrix = confusion_matrix(y_test, y_test_predicted_softmax)\n",
        "print(\"Per-class accuracy of test set:\")\n",
        "dia=np.diagonal(matrix)\n",
        "c=len(matrix)\n",
        "for i in range(0,c):\n",
        "  sum=0\n",
        "  for j in range(0,c):\n",
        "    sum=sum+matrix[i][j]\n",
        "  accur=dia[i]/sum\n",
        "  print('Accuracy of label ',i,'is:',round(accur,6),'(',round((accur*100),3),'%)')"
      ],
      "metadata": {
        "id": "lrcGa2aiRpk6"
      },
      "execution_count": null,
      "outputs": []
    },
    {
      "cell_type": "markdown",
      "source": [
        "KNearest-neighbors"
      ],
      "metadata": {
        "id": "uo-DFNkvQROF"
      }
    },
    {
      "cell_type": "code",
      "source": [
        "import numpy as np\n",
        "from sklearn.metrics import confusion_matrix\n",
        "matrix = confusion_matrix(y_train, y_train_predicted_knn)\n",
        "print(\"Per-class accuracy of train set:\")\n",
        "dia=np.diagonal(matrix)\n",
        "c=len(matrix)\n",
        "for i in range(0,c):\n",
        "  sum=0\n",
        "  for j in range(0,c):\n",
        "    sum=sum+matrix[i][j]\n",
        "  accur=dia[i]/sum\n",
        "  print('Accuracy of label ',i,'is:',round(accur,6),'(',round((accur*100),3),'%)')"
      ],
      "metadata": {
        "id": "ZUdIscBLoNVr"
      },
      "execution_count": null,
      "outputs": []
    },
    {
      "cell_type": "code",
      "source": [
        "import numpy as np\n",
        "from sklearn.metrics import confusion_matrix\n",
        "matrix = confusion_matrix(y_valid, y_valid_predicted_knn)\n",
        "print(\"Per-class accuracy of validation set:\")\n",
        "dia=np.diagonal(matrix)\n",
        "c=len(matrix)\n",
        "for i in range(0,c):\n",
        "  sum=0\n",
        "  for j in range(0,c):\n",
        "    sum=sum+matrix[i][j]\n",
        "  accur=dia[i]/sum\n",
        "  print('Accuracy of label ',i,'is:',round(accur,6),'(',round((accur*100),3),'%)')"
      ],
      "metadata": {
        "id": "fGek_kmfRzAM"
      },
      "execution_count": null,
      "outputs": []
    },
    {
      "cell_type": "code",
      "source": [
        "import numpy as np\n",
        "from sklearn.metrics import confusion_matrix\n",
        "matrix = confusion_matrix(y_test, y_test_predicted_knn)\n",
        "print(\"Per-class accuracy of test set:\")\n",
        "dia=np.diagonal(matrix)\n",
        "c=len(matrix)\n",
        "for i in range(0,c):\n",
        "  sum=0\n",
        "  for j in range(0,c):\n",
        "    sum=sum+matrix[i][j]\n",
        "  accur=dia[i]/sum\n",
        "  print('Accuracy of label ',i,'is:',round(accur,6),'(',round((accur*100),3),'%)')"
      ],
      "metadata": {
        "id": "dig7mkgDR7MK"
      },
      "execution_count": null,
      "outputs": []
    },
    {
      "cell_type": "markdown",
      "source": [
        "Deep Neural Network"
      ],
      "metadata": {
        "id": "StXf3AnhQVOw"
      }
    },
    {
      "cell_type": "code",
      "source": [
        "import numpy as np\n",
        "from sklearn.metrics import confusion_matrix\n",
        "matrix = confusion_matrix(y_train, y_train_predicted_deepNeural)\n",
        "print(\"Per-class accuracy of train set:\")\n",
        "dia=np.diagonal(matrix)\n",
        "c=len(matrix)\n",
        "for i in range(0,c):\n",
        "  sum=0\n",
        "  for j in range(0,c):\n",
        "    sum=sum+matrix[i][j]\n",
        "  accur=dia[i]/sum\n",
        "  print('Accuracy of label ',i,'is:',round(accur,6),'(',round((accur*100),3),'%)')"
      ],
      "metadata": {
        "id": "aCYCZyUkQYE9"
      },
      "execution_count": null,
      "outputs": []
    },
    {
      "cell_type": "code",
      "source": [
        "import numpy as np\n",
        "from sklearn.metrics import confusion_matrix\n",
        "matrix = confusion_matrix(y_valid, y_valid_predicted_deepNeural)\n",
        "print(\"Per-class accuracy of validation set:\")\n",
        "dia=np.diagonal(matrix)\n",
        "c=len(matrix)\n",
        "for i in range(0,c):\n",
        "  sum=0\n",
        "  for j in range(0,c):\n",
        "    sum=sum+matrix[i][j]\n",
        "  accur=dia[i]/sum\n",
        "  print('Accuracy of label ',i,'is:',round(accur,6),'(',round((accur*100),3),'%)')"
      ],
      "metadata": {
        "id": "ODG11XprSFis"
      },
      "execution_count": null,
      "outputs": []
    },
    {
      "cell_type": "code",
      "source": [
        "import numpy as np\n",
        "from sklearn.metrics import confusion_matrix\n",
        "matrix = confusion_matrix(y_test, y_test_predicted_deepNeural)\n",
        "print(\"Per-class accuracy of test set:\")\n",
        "dia=np.diagonal(matrix)\n",
        "c=len(matrix)\n",
        "for i in range(0,c):\n",
        "  sum=0\n",
        "  for j in range(0,c):\n",
        "    sum=sum+matrix[i][j]\n",
        "  accur=dia[i]/sum\n",
        "  print('Accuracy of label ',i,'is:',round(accur,6),'(',round((accur*100),3),'%)')"
      ],
      "metadata": {
        "id": "fp72RY2SSLhX"
      },
      "execution_count": null,
      "outputs": []
    },
    {
      "cell_type": "markdown",
      "source": [
        "Support Vector Machine"
      ],
      "metadata": {
        "id": "3zlc2hMvQYdh"
      }
    },
    {
      "cell_type": "code",
      "source": [],
      "metadata": {
        "id": "msWF7_6GQbKh"
      },
      "execution_count": null,
      "outputs": []
    },
    {
      "cell_type": "markdown",
      "source": [
        "Decision Tree"
      ],
      "metadata": {
        "id": "7r-jvPMQQbjB"
      }
    },
    {
      "cell_type": "code",
      "source": [
        "import numpy as np\n",
        "from sklearn.metrics import confusion_matrix\n",
        "matrix = confusion_matrix(y_train, y_train_predicted_tree)\n",
        "print(\"Per-class accuracy of train set:\")\n",
        "dia=np.diagonal(matrix)\n",
        "c=len(matrix)\n",
        "for i in range(0,c):\n",
        "  sum=0\n",
        "  for j in range(0,c):\n",
        "    sum=sum+matrix[i][j]\n",
        "  accur=dia[i]/sum\n",
        "  print('Accuracy of label ',i,'is:',round(accur,6),'(',round((accur*100),3),'%)')"
      ],
      "metadata": {
        "id": "LWNKSm7vQ_5S"
      },
      "execution_count": null,
      "outputs": []
    },
    {
      "cell_type": "code",
      "source": [
        "import numpy as np\n",
        "from sklearn.metrics import confusion_matrix\n",
        "matrix = confusion_matrix(y_valid, y_valid_predicted_tree)\n",
        "print(\"Per-class accuracy of validation set:\")\n",
        "dia=np.diagonal(matrix)\n",
        "c=len(matrix)\n",
        "for i in range(0,c):\n",
        "  sum=0\n",
        "  for j in range(0,c):\n",
        "    sum=sum+matrix[i][j]\n",
        "  accur=dia[i]/sum\n",
        "  print('Accuracy of label ',i,'is:',round(accur,6),'(',round((accur*100),3),'%)')"
      ],
      "metadata": {
        "id": "d3ehgxI5SXLX"
      },
      "execution_count": null,
      "outputs": []
    },
    {
      "cell_type": "code",
      "source": [
        "import numpy as np\n",
        "from sklearn.metrics import confusion_matrix\n",
        "matrix = confusion_matrix(y_test, y_test_predicted_tree)\n",
        "print(\"Per-class accuracy of test set:\")\n",
        "dia=np.diagonal(matrix)\n",
        "c=len(matrix)\n",
        "for i in range(0,c):\n",
        "  sum=0\n",
        "  for j in range(0,c):\n",
        "    sum=sum+matrix[i][j]\n",
        "  accur=dia[i]/sum\n",
        "  print('Accuracy of label ',i,'is:',round(accur,6),'(',round((accur*100),3),'%)')"
      ],
      "metadata": {
        "id": "dZJo7jtpSX98"
      },
      "execution_count": null,
      "outputs": []
    },
    {
      "cell_type": "markdown",
      "source": [
        "Random Forest"
      ],
      "metadata": {
        "id": "6RkdA33eRASW"
      }
    },
    {
      "cell_type": "code",
      "source": [
        "import numpy as np\n",
        "from sklearn.metrics import confusion_matrix\n",
        "matrix = confusion_matrix(y_train, y_train_predicted_rf)\n",
        "print(\"Per-class accuracy of train set:\")\n",
        "dia=np.diagonal(matrix)\n",
        "c=len(matrix)\n",
        "for i in range(0,c):\n",
        "  sum=0\n",
        "  for j in range(0,c):\n",
        "    sum=sum+matrix[i][j]\n",
        "  accur=dia[i]/sum\n",
        "  print('Accuracy of label ',i,'is:',round(accur,6),'(',round((accur*100),3),'%)')"
      ],
      "metadata": {
        "id": "xaoRtPSGRDA6"
      },
      "execution_count": null,
      "outputs": []
    },
    {
      "cell_type": "code",
      "source": [
        "import numpy as np\n",
        "from sklearn.metrics import confusion_matrix\n",
        "matrix = confusion_matrix(y_valid, y_valid_predicted_rf)\n",
        "print(\"Per-class accuracy of validation set:\")\n",
        "dia=np.diagonal(matrix)\n",
        "c=len(matrix)\n",
        "for i in range(0,c):\n",
        "  sum=0\n",
        "  for j in range(0,c):\n",
        "    sum=sum+matrix[i][j]\n",
        "  accur=dia[i]/sum\n",
        "  print('Accuracy of label ',i,'is:',round(accur,6),'(',round((accur*100),3),'%)')"
      ],
      "metadata": {
        "id": "dB0J6aDFT3rO"
      },
      "execution_count": null,
      "outputs": []
    },
    {
      "cell_type": "code",
      "source": [
        "import numpy as np\n",
        "from sklearn.metrics import confusion_matrix\n",
        "matrix = confusion_matrix(y_test, y_test_predicted_rf)\n",
        "print(\"Per-class accuracy of test set:\")\n",
        "dia=np.diagonal(matrix)\n",
        "c=len(matrix)\n",
        "for i in range(0,c):\n",
        "  sum=0\n",
        "  for j in range(0,c):\n",
        "    sum=sum+matrix[i][j]\n",
        "  accur=dia[i]/sum\n",
        "  print('Accuracy of label ',i,'is:',round(accur,6),'(',round((accur*100),3),'%)')"
      ],
      "metadata": {
        "id": "xxfe5KqXT-1I"
      },
      "execution_count": null,
      "outputs": []
    },
    {
      "cell_type": "markdown",
      "source": [
        " Convolutional Neural Network"
      ],
      "metadata": {
        "id": "V9ImwNDnRDgb"
      }
    },
    {
      "cell_type": "code",
      "source": [
        "import numpy as np\n",
        "from sklearn.metrics import confusion_matrix\n",
        "matrix = confusion_matrix(y_train, y_train_predicted_cnn)\n",
        "print(\"Per-class accuracy of train set:\")\n",
        "dia=np.diagonal(matrix)\n",
        "c=len(matrix)\n",
        "for i in range(0,c):\n",
        "  sum=0\n",
        "  for j in range(0,c):\n",
        "    sum=sum+matrix[i][j]\n",
        "  accur=dia[i]/sum\n",
        "  print('Accuracy of label ',i,'is:',round(accur,6),'(',round((accur*100),3),'%)')"
      ],
      "metadata": {
        "id": "SraW-sxqRGP6"
      },
      "execution_count": null,
      "outputs": []
    },
    {
      "cell_type": "code",
      "source": [
        "import numpy as np\n",
        "from sklearn.metrics import confusion_matrix\n",
        "matrix = confusion_matrix(y_valid, y_valid_predicted_cnn)\n",
        "print(\"Per-class accuracy of validation set:\")\n",
        "dia=np.diagonal(matrix)\n",
        "c=len(matrix)\n",
        "for i in range(0,c):\n",
        "  sum=0\n",
        "  for j in range(0,c):\n",
        "    sum=sum+matrix[i][j]\n",
        "  accur=dia[i]/sum\n",
        "  print('Accuracy of label ',i,'is:',round(accur,6),'(',round((accur*100),3),'%)')"
      ],
      "metadata": {
        "id": "a55ez2wTUGhZ"
      },
      "execution_count": null,
      "outputs": []
    },
    {
      "cell_type": "code",
      "source": [
        "import numpy as np\n",
        "from sklearn.metrics import confusion_matrix\n",
        "matrix = confusion_matrix(y_test, y_test_predicted_cnn)\n",
        "print(\"Per-class accuracy of test set:\")\n",
        "dia=np.diagonal(matrix)\n",
        "c=len(matrix)\n",
        "for i in range(0,c):\n",
        "  sum=0\n",
        "  for j in range(0,c):\n",
        "    sum=sum+matrix[i][j]\n",
        "  accur=dia[i]/sum\n",
        "  print('Accuracy of label ',i,'is:',round(accur,6),'(',round((accur*100),3),'%)')"
      ],
      "metadata": {
        "id": "0KIo_T53Vfpw"
      },
      "execution_count": null,
      "outputs": []
    },
    {
      "cell_type": "markdown",
      "source": [
        "### **Task 4.5: Visualize the classification confusion matrix on training, validation and test set to check the details of predictions over every class.**"
      ],
      "metadata": {
        "id": "3HRpAOEWoNtv"
      }
    },
    {
      "cell_type": "markdown",
      "source": [
        "Softmax regression"
      ],
      "metadata": {
        "id": "NhB5I6qGVujx"
      }
    },
    {
      "cell_type": "code",
      "source": [
        "import matplotlib.pyplot as plt\n",
        "from sklearn.metrics import ConfusionMatrixDisplay\n",
        "ConfusionMatrixDisplay.from_predictions(y_train, y_train_predicted_softmax)\n",
        "plt.title(\"Classification Confusion matrix Training Set\")\n",
        "plt.show()"
      ],
      "metadata": {
        "id": "pif_0-LAoSu8"
      },
      "execution_count": null,
      "outputs": []
    },
    {
      "cell_type": "code",
      "source": [
        "import matplotlib.pyplot as plt\n",
        "from sklearn.metrics import ConfusionMatrixDisplay\n",
        "ConfusionMatrixDisplay.from_predictions(y_valid, y_valid_predicted_softmax)\n",
        "plt.title(\"Classification Confusion matrix Validation Set\")\n",
        "plt.show()"
      ],
      "metadata": {
        "id": "uqn-YT8fWUWw"
      },
      "execution_count": null,
      "outputs": []
    },
    {
      "cell_type": "code",
      "source": [
        "import matplotlib.pyplot as plt\n",
        "from sklearn.metrics import ConfusionMatrixDisplay\n",
        "ConfusionMatrixDisplay.from_predictions(y_test, y_test_predicted_softmax)\n",
        "plt.title(\"Classification Confusion matrix Test Set\")\n",
        "plt.show()"
      ],
      "metadata": {
        "id": "AeaR03BoWaTw"
      },
      "execution_count": null,
      "outputs": []
    },
    {
      "cell_type": "markdown",
      "source": [
        "KNearest-neighbors"
      ],
      "metadata": {
        "id": "AGhTASy7VxMk"
      }
    },
    {
      "cell_type": "code",
      "source": [
        "import matplotlib.pyplot as plt\n",
        "from sklearn.metrics import ConfusionMatrixDisplay\n",
        "ConfusionMatrixDisplay.from_predictions(y_train, y_train_predicted_knn)\n",
        "plt.title(\"Classification Confusion matrix Training Set\")\n",
        "plt.show()"
      ],
      "metadata": {
        "id": "zxdC0MT6V1W7"
      },
      "execution_count": null,
      "outputs": []
    },
    {
      "cell_type": "code",
      "source": [
        "import matplotlib.pyplot as plt\n",
        "from sklearn.metrics import ConfusionMatrixDisplay\n",
        "ConfusionMatrixDisplay.from_predictions(y_valid, y_valid_predicted_softmax)\n",
        "plt.title(\"Classification Confusion matrix Validation Set\")\n",
        "plt.show()"
      ],
      "metadata": {
        "id": "4kM02ZDLWoIO"
      },
      "execution_count": null,
      "outputs": []
    },
    {
      "cell_type": "code",
      "source": [
        "import matplotlib.pyplot as plt\n",
        "from sklearn.metrics import ConfusionMatrixDisplay\n",
        "ConfusionMatrixDisplay.from_predictions(y_test, y_test_predicted_softmax)\n",
        "plt.title(\"Classification Confusion matrix Test Set\")\n",
        "plt.show()"
      ],
      "metadata": {
        "id": "9Er0tl8oWsn0"
      },
      "execution_count": null,
      "outputs": []
    },
    {
      "cell_type": "markdown",
      "source": [
        "Deep Neural Network"
      ],
      "metadata": {
        "id": "Exr-iXI4V3oD"
      }
    },
    {
      "cell_type": "code",
      "source": [
        "import matplotlib.pyplot as plt\n",
        "from sklearn.metrics import ConfusionMatrixDisplay\n",
        "ConfusionMatrixDisplay.from_predictions(y_train, y_train_predicted_deepNeural)\n",
        "plt.title(\"Classification Confusion matrix Training Set\")\n",
        "plt.show()"
      ],
      "metadata": {
        "id": "qbi8YacsV45Y"
      },
      "execution_count": null,
      "outputs": []
    },
    {
      "cell_type": "code",
      "source": [
        "import matplotlib.pyplot as plt\n",
        "from sklearn.metrics import ConfusionMatrixDisplay\n",
        "ConfusionMatrixDisplay.from_predictions(y_valid, y_valid_predicted_deepNeural)\n",
        "plt.title(\"Classification Confusion matrix Validation Set\")\n",
        "plt.show()"
      ],
      "metadata": {
        "id": "-IL7be24W0aA"
      },
      "execution_count": null,
      "outputs": []
    },
    {
      "cell_type": "code",
      "source": [
        "import matplotlib.pyplot as plt\n",
        "from sklearn.metrics import ConfusionMatrixDisplay\n",
        "ConfusionMatrixDisplay.from_predictions(y_test, y_test_predicted_deepNeural)\n",
        "plt.title(\"Classification Confusion matrix Test Set\")\n",
        "plt.show()"
      ],
      "metadata": {
        "id": "3sMmIpwZW1EZ"
      },
      "execution_count": null,
      "outputs": []
    },
    {
      "cell_type": "markdown",
      "source": [
        "Support Vector Machine"
      ],
      "metadata": {
        "id": "D4aO9BdeV5On"
      }
    },
    {
      "cell_type": "code",
      "source": [],
      "metadata": {
        "id": "_aMezD5FV76u"
      },
      "execution_count": null,
      "outputs": []
    },
    {
      "cell_type": "markdown",
      "source": [
        "Decision Tree"
      ],
      "metadata": {
        "id": "hRJf5lYmV8O6"
      }
    },
    {
      "cell_type": "code",
      "source": [
        "import matplotlib.pyplot as plt\n",
        "from sklearn.metrics import ConfusionMatrixDisplay\n",
        "ConfusionMatrixDisplay.from_predictions(y_train, y_train_predicted_tree)\n",
        "plt.title(\"Classification Confusion matrix Training Set\")\n",
        "plt.show()"
      ],
      "metadata": {
        "id": "sHT_gypzV_nj"
      },
      "execution_count": null,
      "outputs": []
    },
    {
      "cell_type": "code",
      "source": [
        "import matplotlib.pyplot as plt\n",
        "from sklearn.metrics import ConfusionMatrixDisplay\n",
        "ConfusionMatrixDisplay.from_predictions(y_valid, y_valid_predicted_tree)\n",
        "plt.title(\"Classification Confusion matrix Validation Set\")\n",
        "plt.show()"
      ],
      "metadata": {
        "id": "xHWAUZ8yXCyv"
      },
      "execution_count": null,
      "outputs": []
    },
    {
      "cell_type": "code",
      "source": [
        "import matplotlib.pyplot as plt\n",
        "from sklearn.metrics import ConfusionMatrixDisplay\n",
        "ConfusionMatrixDisplay.from_predictions(y_test, y_test_predicted_tree)\n",
        "plt.title(\"Classification Confusion matrix Test Set\")\n",
        "plt.show()"
      ],
      "metadata": {
        "id": "flaBPHoNXfRP"
      },
      "execution_count": null,
      "outputs": []
    },
    {
      "cell_type": "markdown",
      "source": [
        "Random Forest"
      ],
      "metadata": {
        "id": "1HcX_CIhWAAy"
      }
    },
    {
      "cell_type": "code",
      "source": [
        "import matplotlib.pyplot as plt\n",
        "from sklearn.metrics import ConfusionMatrixDisplay\n",
        "ConfusionMatrixDisplay.from_predictions(y_train, y_train_predicted_rf)\n",
        "plt.title(\"Classification Confusion matrix Training Set\")\n",
        "plt.show()"
      ],
      "metadata": {
        "id": "HXtevruRWC2h"
      },
      "execution_count": null,
      "outputs": []
    },
    {
      "cell_type": "code",
      "source": [
        "import matplotlib.pyplot as plt\n",
        "from sklearn.metrics import ConfusionMatrixDisplay\n",
        "ConfusionMatrixDisplay.from_predictions(y_valid, y_valid_predicted_rf)\n",
        "plt.title(\"Classification Confusion matrix Validation Set\")\n",
        "plt.show()"
      ],
      "metadata": {
        "id": "voqfn1QHX3us"
      },
      "execution_count": null,
      "outputs": []
    },
    {
      "cell_type": "code",
      "source": [
        "import matplotlib.pyplot as plt\n",
        "from sklearn.metrics import ConfusionMatrixDisplay\n",
        "ConfusionMatrixDisplay.from_predictions(y_test, y_test_predicted_rf)\n",
        "plt.title(\"Classification Confusion matrix Test Set\")\n",
        "plt.show()"
      ],
      "metadata": {
        "id": "-HtG4v-0X9oR"
      },
      "execution_count": null,
      "outputs": []
    },
    {
      "cell_type": "markdown",
      "source": [
        "Convolutional Neural Network"
      ],
      "metadata": {
        "id": "6nko_4osWDMl"
      }
    },
    {
      "cell_type": "code",
      "source": [
        "import matplotlib.pyplot as plt\n",
        "from sklearn.metrics import ConfusionMatrixDisplay\n",
        "ConfusionMatrixDisplay.from_predictions(y_train, y_train_predicted_cnn)\n",
        "plt.title(\"Classification Confusion matrix Training Set\")\n",
        "plt.show()"
      ],
      "metadata": {
        "id": "v4Ye98TbWGuc"
      },
      "execution_count": null,
      "outputs": []
    },
    {
      "cell_type": "code",
      "source": [
        "import matplotlib.pyplot as plt\n",
        "from sklearn.metrics import ConfusionMatrixDisplay\n",
        "ConfusionMatrixDisplay.from_predictions(y_valid, y_valid_predicted_cnn)\n",
        "plt.title(\"Classification Confusion matrix Validation Set\")\n",
        "plt.show()"
      ],
      "metadata": {
        "id": "TL_PDYhdYH6E"
      },
      "execution_count": null,
      "outputs": []
    },
    {
      "cell_type": "code",
      "source": [
        "import matplotlib.pyplot as plt\n",
        "from sklearn.metrics import ConfusionMatrixDisplay\n",
        "ConfusionMatrixDisplay.from_predictions(y_test, y_test_predicted_cnn)\n",
        "plt.title(\"Classification Confusion matrix Test Set\")\n",
        "plt.show()"
      ],
      "metadata": {
        "id": "jOUtdMsxYO8y"
      },
      "execution_count": null,
      "outputs": []
    },
    {
      "cell_type": "markdown",
      "source": [
        "### **Task 4.6: Save the trained model to disk.**"
      ],
      "metadata": {
        "id": "ZMopwwAgoTUb"
      }
    },
    {
      "cell_type": "markdown",
      "source": [
        "Softmax regression"
      ],
      "metadata": {
        "id": "ioXqWml6LNVc"
      }
    },
    {
      "cell_type": "code",
      "source": [
        "import pickle\n",
        "pickle.dump(softmax_model, open('softmax_model.pkl', 'wb'))"
      ],
      "metadata": {
        "id": "5jJgiKuEoZCN"
      },
      "execution_count": null,
      "outputs": []
    },
    {
      "cell_type": "markdown",
      "source": [
        "KNearest-neighbors"
      ],
      "metadata": {
        "id": "b0PddPqhYoIs"
      }
    },
    {
      "cell_type": "code",
      "source": [
        "import pickle\n",
        "pickle.dump(knn_model, open('knn_model.pkl', 'wb'))"
      ],
      "metadata": {
        "id": "xTNrtoURYsH3"
      },
      "execution_count": null,
      "outputs": []
    },
    {
      "cell_type": "markdown",
      "source": [
        "Deep Neural Network"
      ],
      "metadata": {
        "id": "agrq2aZVYuB6"
      }
    },
    {
      "cell_type": "code",
      "source": [
        "deep_neural_model.save(\"deep_neural_model.h5\")"
      ],
      "metadata": {
        "id": "YWGGhl26Ytln"
      },
      "execution_count": null,
      "outputs": []
    },
    {
      "cell_type": "markdown",
      "source": [
        "Support Vector Machine"
      ],
      "metadata": {
        "id": "D-BRt_2bYxCH"
      }
    },
    {
      "cell_type": "code",
      "source": [
        "#import pickle\n",
        "#pickle.dump(svm_clf, open('svm_clf.pkl', 'wb'))"
      ],
      "metadata": {
        "id": "LocGej6UY0Xw"
      },
      "execution_count": null,
      "outputs": []
    },
    {
      "cell_type": "markdown",
      "source": [
        "Decision Tree"
      ],
      "metadata": {
        "id": "cL1wMzgdY0wj"
      }
    },
    {
      "cell_type": "code",
      "source": [
        "import pickle\n",
        "pickle.dump(tree_clf, open('tree_clf.pkl', 'wb'))"
      ],
      "metadata": {
        "id": "2h4fNkY8Y3_J"
      },
      "execution_count": null,
      "outputs": []
    },
    {
      "cell_type": "markdown",
      "source": [
        "Random Forest"
      ],
      "metadata": {
        "id": "aJa9lVjlY4W0"
      }
    },
    {
      "cell_type": "code",
      "source": [
        "import pickle\n",
        "pickle.dump(rf_clf, open('rf_clf.pkl', 'wb'))"
      ],
      "metadata": {
        "id": "laVFAljGY6vP"
      },
      "execution_count": null,
      "outputs": []
    },
    {
      "cell_type": "markdown",
      "source": [
        "Convolutional Neural Network"
      ],
      "metadata": {
        "id": "3L9_D0UQY7Ku"
      }
    },
    {
      "cell_type": "code",
      "source": [
        "cnn_model.save(\"cnn_model.h5\")"
      ],
      "metadata": {
        "id": "YflLUvSQY98t"
      },
      "execution_count": null,
      "outputs": []
    },
    {
      "cell_type": "markdown",
      "source": [
        "### **Task 4.7: Summarize the classification accuracy into the following table (Pandas dataframe is recommended)**"
      ],
      "metadata": {
        "id": "0l2tputEoZai"
      }
    },
    {
      "cell_type": "code",
      "source": [
        "Softmax_dict = dict({\"Model\":\"SoftMax Regression\",\"Training time(secs)\": softmax_time_duration,\"Training accuracy\":trainAcc_softmax,\"Validation accuracy\":validAcc_softmax,\"Testing accuracy\":testAcc_softmax})\n",
        "knn_dict = dict({\"Model\":\"KNearest-neighbors\",\"Training time(secs)\": knn_time_duration,\"Training accuracy\":trainAcc_knn,\"Validation accuracy\":validAcc_knn,\"Testing accuracy\":testAcc_knn})\n",
        "deepNeural_dict = dict({\"Model\":\"Deep Neural Network\",\"Training time(secs)\": deep_neural_time_duration,\"Training accuracy\":trainAcc_deepNeural,\"Validation accuracy\":validAcc_deepNeural,\"Testing accuracy\":testAcc_deepNeural})\n",
        "#Svm_dict = dict({\"Model\":\"Support Vector Machine\",\"Training time(secs)\": svm_time_duration,\"Training accuracy\":trainAcc_svm,\"Validation accuracy\":validAcc_svm,\"Testing accuracy\":testAcc_svm})\n",
        "tree_dict = dict({\"Model\":\"Decision Tree\",\"Training time(secs)\": tree_time_duration,\"Training accuracy\":trainAcc_tree,\"Validation accuracy\":validAcc_tree,\"Testing accuracy\":testAcc_tree})\n",
        "rf_dict = dict({\"Model\":\"Random Forest\",\"Training time(secs)\": rf_time_duration,\"Training accuracy\":trainAcc_rf,\"Validation accuracy\":validAcc_rf,\"Testing accuracy\":testAcc_rf})\n",
        "cnn_dict = dict({\"Model\":\"Convolutional Neural Network\",\"Training time(secs)\": cnn_time_duration,\"Training accuracy\":trainAcc_cnn,\"Validation accuracy\":validAcc_cnn,\"Testing accuracy\":testAcc_cnn})"
      ],
      "metadata": {
        "id": "Xv9C0ShNoeJP"
      },
      "execution_count": null,
      "outputs": []
    },
    {
      "cell_type": "code",
      "source": [
        "import pandas as pd\n",
        "table_df=pd.DataFrame.from_dict([Softmax_dict,knn_dict,deepNeural_dict,tree_dict,rf_dict,cnn_dict])\n",
        "table_df"
      ],
      "metadata": {
        "id": "MgdzfLhkelFI"
      },
      "execution_count": null,
      "outputs": []
    },
    {
      "cell_type": "markdown",
      "source": [
        "## **Step 5: (20 points) Apply principal component analysis on dataset**"
      ],
      "metadata": {
        "id": "DkrdqvTdeNs3"
      }
    },
    {
      "cell_type": "markdown",
      "source": [
        "### **Task 5.1: Apply PCA to reduce the dataset’s dimensionality, with an explained variance ratio of 95% (Refer to steps in Textbook: P219-223, or steps in Week6-Lab I: Dimension_Reduction). Print the shape of the new training, validation, and test set.**"
      ],
      "metadata": {
        "id": "DlVS3zHPeYBv"
      }
    },
    {
      "cell_type": "code",
      "source": [
        "from sklearn.decomposition import PCA\n",
        "pca1 = PCA(n_components=0.95)\n",
        "x_train_reduced = pca1.fit_transform(x_train_flatten)\n",
        "x_valid_reduced = pca1.transform(x_valid_flatten)\n",
        "x_test_reduced = pca1.transform(x_test_flatten)"
      ],
      "metadata": {
        "id": "bw4rEX8oZjrL"
      },
      "execution_count": null,
      "outputs": []
    },
    {
      "cell_type": "code",
      "source": [
        "print(\"X_train_reduced.shape: \", x_train_reduced.shape)\n",
        "print(\"X_valid_reduced.shape: \", x_valid_reduced.shape)\n",
        "print(\"X_test_reduced.shape: \", x_test_reduced.shape)"
      ],
      "metadata": {
        "id": "-poSqA5caj5-"
      },
      "execution_count": null,
      "outputs": []
    },
    {
      "cell_type": "markdown",
      "source": [
        "### **Task 5.2: Train all ML methods in Task 4 on the new reduced dataset to summarize the classification accuracy into the following table (Pandas dataframe is recommended)**"
      ],
      "metadata": {
        "id": "RR61dEXmfD57"
      }
    },
    {
      "cell_type": "markdown",
      "source": [
        "Softmax regression"
      ],
      "metadata": {
        "id": "9vf6S5NKf7BJ"
      }
    },
    {
      "cell_type": "code",
      "source": [
        "from sklearn.linear_model import LogisticRegression\n",
        "softmax_model_t5 = LogisticRegression(multi_class='multinomial', solver='lbfgs', C=10)\n",
        "import time\n",
        "start = time.time()\n",
        "softmax_model_t5.fit(x_train_reduced,y_train)\n",
        "end = time.time()\n",
        "softmax_t5_time_duration = end-start\n",
        "y_train_predicted_softmax_t5 = softmax_model_t5.predict(x_train_reduced)\n",
        "y_valid_predicted_softmax_t5 = softmax_model_t5.predict(x_valid_reduced)\n",
        "y_test_predicted_softmax_t5 = softmax_model_t5.predict(x_test_reduced)\n",
        "from sklearn.metrics import accuracy_score\n",
        "trainAcc_softmax_t5 = accuracy_score(y_train, y_train_predicted_softmax_t5)\n",
        "validAcc_softmax_t5 = accuracy_score(y_valid,y_valid_predicted_softmax_t5)\n",
        "testAcc_softmax_t5 = accuracy_score(y_test,y_test_predicted_softmax_t5)"
      ],
      "metadata": {
        "id": "Q8-6l1k4ehwd"
      },
      "execution_count": null,
      "outputs": []
    },
    {
      "cell_type": "markdown",
      "source": [
        "KNearest-neighbors"
      ],
      "metadata": {
        "id": "1Z14J91L0_sx"
      }
    },
    {
      "cell_type": "code",
      "source": [
        "from sklearn.neighbors import KNeighborsClassifier\n",
        "knn_model_t5 = KNeighborsClassifier(n_neighbors = 3, metric = 'euclidean')\n",
        "import time\n",
        "start = time.time()\n",
        "knn_model_t5.fit(x_train_reduced,y_train)\n",
        "end = time.time()\n",
        "knn_t5_time_duration = end-start\n",
        "y_train_predicted_knn_t5 = knn_model_t5.predict(x_train_reduced)\n",
        "y_valid_predicted_knn_t5 = knn_model_t5.predict(x_valid_reduced)\n",
        "y_test_predicted_knn_t5 = knn_model_t5.predict(x_test_reduced)\n",
        "from sklearn.metrics import accuracy_score\n",
        "trainAcc_knn_t5 = accuracy_score(y_train, y_train_predicted_knn_t5)\n",
        "validAcc_knn_t5 = accuracy_score(y_valid,y_valid_predicted_knn_t5)\n",
        "testAcc_knn_t5 = accuracy_score(y_test,y_test_predicted_knn_t5)"
      ],
      "metadata": {
        "id": "O1Igpupq1Ddx"
      },
      "execution_count": null,
      "outputs": []
    },
    {
      "cell_type": "markdown",
      "source": [
        "Deep Neural Network"
      ],
      "metadata": {
        "id": "NgIAiRIc1D21"
      }
    },
    {
      "cell_type": "code",
      "source": [
        "from keras.models import Sequential\n",
        "from keras.layers import Dense\n",
        "deep_neural_model_t5 = Sequential()\n",
        "deep_neural_model_t5.add(Dense(1000, input_shape=(154,), activation=\"relu\"))\n",
        "deep_neural_model_t5.add(Dense(1000,activation=\"relu\"))\n",
        "deep_neural_model_t5.add(Dense(10,activation=\"softmax\"))\n",
        "deep_neural_model_t5.compile(loss='categorical_crossentropy',optimizer='adam',metrics=['accuracy'])\n",
        "deep_neural_model_t5.summary()\n",
        "import time\n",
        "start = time.time()\n",
        "deep_neural_model_t5.fit(x_train_reduced,y_train)\n",
        "end = time.time()\n",
        "deepNeural_t5_time_duration = end-start\n",
        "y_train_predicted_deepNeural_t5 = deep_neural_model_t5.predict(x_train_reduced)\n",
        "y_valid_predicted_deepNeural_t5 = deep_neural_model_t5.predict(x_valid_reduced)\n",
        "y_test_predicted_deepNeural_t5 = deep_neural_model_t5.predict(x_test_reduced)\n",
        "from sklearn.metrics import accuracy_score\n",
        "trainAcc_deepNeural_t5 = accuracy_score(y_train, y_train_predicted_deepNeural_t5)\n",
        "validAcc_deepNeural_t5 = accuracy_score(y_valid,y_valid_predicted_deepNeural_t5)\n",
        "testAcc_deepNeural_t5 = accuracy_score(y_test,y_test_predicted_deepNeural_t5)"
      ],
      "metadata": {
        "id": "QpMqU4IX1GZn"
      },
      "execution_count": null,
      "outputs": []
    },
    {
      "cell_type": "markdown",
      "source": [
        "Support Vector Machine"
      ],
      "metadata": {
        "id": "Qaxlb1Hu1Gw-"
      }
    },
    {
      "cell_type": "code",
      "source": [
        "from sklearn.pipeline import Pipeline\n",
        "from sklearn.preprocessing import StandardScaler\n",
        "from sklearn.svm import LinearSVC\n",
        "svm_clf_t5 =  Pipeline([\n",
        " (\"poly_features\", PolynomialFeatures(degree=3)),\n",
        " (\"scaler\", StandardScaler()),\n",
        " (\"svm_clf\", LinearSVC(C=10, loss=\"hinge\"))\n",
        " ])\n",
        "import time\n",
        "start = time.time()\n",
        "svm_clf_t5.fit(x_train_reduced,y_train)\n",
        "end = time.time()\n",
        "svm_t5_time_duration = end-start\n",
        "y_train_predicted_svm_t5 = svm_clf_t5.predict(x_train_reduced)\n",
        "y_valid_predicted_svm_t5 = svm_clf_t5.predict(x_valid_reduced)\n",
        "y_test_predicted_svm_t5 = svm_clf_t5.predict(x_test_reduced)\n",
        "from sklearn.metrics import accuracy_score\n",
        "trainAcc_svm_t5 = accuracy_score(y_train, y_train_predicted_svm_t5)\n",
        "validAcc_svm_t5 = accuracy_score(y_valid,y_valid_predicted_svm_t5)\n",
        "testAcc_svm_t5 = accuracy_score(y_test,y_test_predicted_svm_t5)"
      ],
      "metadata": {
        "id": "aDxC6tTq1Joq"
      },
      "execution_count": null,
      "outputs": []
    },
    {
      "cell_type": "markdown",
      "source": [
        "Decision Tree"
      ],
      "metadata": {
        "id": "ltR24v8R1KKN"
      }
    },
    {
      "cell_type": "code",
      "source": [
        "from sklearn.tree import DecisionTreeClassifier\n",
        "tree_clf_t5 = DecisionTreeClassifier(max_depth=10)\n",
        "import time\n",
        "start = time.time()\n",
        "tree_clf_t5.fit(x_train_reduced,y_train)\n",
        "end = time.time()\n",
        "tree_t5_time_duration = end-start\n",
        "y_train_predicted_tree_t5 = tree_clf_t5.predict(x_train_reduced)\n",
        "y_valid_predicted_tree_t5 = tree_clf_t5.predict(x_valid_reduced)\n",
        "y_test_predicted_tree_t5 = tree_clf_t5.predict(x_test_reduced)\n",
        "from sklearn.metrics import accuracy_score\n",
        "trainAcc_tree_t5 = accuracy_score(y_train, y_train_predicted_tree_t5)\n",
        "validAcc_tree_t5 = accuracy_score(y_valid,y_valid_predicted_tree_t5)\n",
        "testAcc_tree_t5 = accuracy_score(y_test,y_test_predicted_tree_t5)"
      ],
      "metadata": {
        "id": "B0DITNo11Ndi"
      },
      "execution_count": null,
      "outputs": []
    },
    {
      "cell_type": "markdown",
      "source": [
        "Random Forest"
      ],
      "metadata": {
        "id": "o8G-kPqu1OA9"
      }
    },
    {
      "cell_type": "code",
      "source": [
        "from sklearn.ensemble import RandomForestClassifier\n",
        "rf_clf_t5=RandomForestClassifier(n_estimators=100)\n",
        "import time\n",
        "start = time.time()\n",
        "rf_clf_t5.fit(x_train_reduced,y_train)\n",
        "end = time.time()\n",
        "rf_t5_time_duration = end-start\n",
        "y_train_predicted_rf_t5 = rf_clf_t5.predict(x_train_reduced)\n",
        "y_valid_predicted_rf_t5 = rf_clf_t5.predict(x_valid_reduced)\n",
        "y_test_predicted_rf_t5 = rf_clf_t5.predict(x_test_reduced)\n",
        "from sklearn.metrics import accuracy_score\n",
        "trainAcc_rf_t5 = accuracy_score(y_train, y_train_predicted_rf_t5)\n",
        "validAcc_rf_t5 = accuracy_score(y_valid,y_valid_predicted_rf_t5)\n",
        "testAcc_rf_t5 = accuracy_score(y_test,y_test_predicted_rf_t5)"
      ],
      "metadata": {
        "id": "yuoE3YAy1UsL"
      },
      "execution_count": null,
      "outputs": []
    },
    {
      "cell_type": "code",
      "source": [
        "Softmax_dict_t5 = dict({\"Model\":\"SoftMax Regression\",\"Training time(secs)\": softmax_t5_time_duration,\"Training accuracy\":trainAcc_softmax_t5,\"Validation accuracy\":validAcc_softmax_t5,\"Testing accuracy\":testAcc_softmax_t5})\n",
        "knn_dict_t5 = dict({\"Model\":\"KNearest-neighbors\",\"Training time(secs)\": knn_t5_time_duration,\"Training accuracy\":trainAcc_knn_t5,\"Validation accuracy\":validAcc_knn_t5,\"Testing accuracy\":testAcc_knn_t5})\n",
        "deepNeural_dict_t5 = dict({\"Model\":\"Deep Neural Network\",\"Training time(secs)\": deepNeural_t5_time_duration,\"Training accuracy\":trainAcc_deepNeural_t5,\"Validation accuracy\":validAcc_deepNeural_t5,\"Testing accuracy\":testAcc_deepNeural_t5})\n",
        "#Svm_dict_t5 = dict({\"Model\":\"Support Vector Machine\",\"Training time(secs)\": svm_t5_time_duration,\"Training accuracy\":trainAcc_svm_t5,\"Validation accuracy\":validAcc_svm_t5,\"Testing accuracy\":testAcc_svm_t5})\n",
        "tree_dict_t5 = dict({\"Model\":\"Decision Tree\",\"Training time(secs)\": tree_t5_time_duration,\"Training accuracy\":trainAcc_tree_t5,\"Validation accuracy\":validAcc_tree_t5,\"Testing accuracy\":testAcc_tree_t5})\n",
        "rf_dict_t5 = dict({\"Model\":\"Random Forest\",\"Training time(secs)\": rf_t5_time_duration,\"Training accuracy\":trainAcc_rf_t5,\"Validation accuracy\":validAcc_rf_t5,\"Testing accuracy\":testAcc_rf_t5})"
      ],
      "metadata": {
        "id": "vM7_vDpB5zhj"
      },
      "execution_count": null,
      "outputs": []
    },
    {
      "cell_type": "code",
      "source": [
        "import pandas as pd\n",
        "table_df=pd.DataFrame.from_dict([Softmax_dict,knn_dict,deepNeural_dict,tree_dict,rf_dict,cnn_dict])\n",
        "table_df"
      ],
      "metadata": {
        "id": "lxmmNjWf6pIZ"
      },
      "execution_count": null,
      "outputs": []
    },
    {
      "cell_type": "markdown",
      "source": [
        "### **Task 5.3: Based on your observation, was training much faster when using reduced dataset compared to the model training on Task 4?**"
      ],
      "metadata": {
        "id": "B2PnwlbZ63yG"
      }
    },
    {
      "cell_type": "markdown",
      "source": [
        "### **Task 5.4: Based on your observation, did you see improved, similar, or reduced performance when training models on full dataset and reduced dataset?**"
      ],
      "metadata": {
        "id": "kZu4gwmH69Vc"
      }
    },
    {
      "cell_type": "markdown",
      "source": [
        "## **Step 6: (10 points) Applying clustering analysis on the feature data to discover the patterns among samples.**"
      ],
      "metadata": {
        "id": "orkalBAXkCra"
      }
    },
    {
      "cell_type": "markdown",
      "source": [
        "### **Task 6.1: Get small dataset by sampling same number of images per class from the training data. To simplify the analysis, you can sample at most 50 images per class from the training data.**"
      ],
      "metadata": {
        "id": "1FHD4iYUkx7F"
      }
    },
    {
      "cell_type": "code",
      "source": [
        "import numpy as np\n",
        "sampled_set_x=[]\n",
        "sampled_set_y=[]\n",
        "for i in range(0,10):\n",
        "  count=0\n",
        "  for j in range(0,55000):\n",
        "    if(count>50):\n",
        "      break\n",
        "    if(y_train[j]==i):\n",
        "      sampled_set_x.append(x_train_scaled[j])\n",
        "      sampled_set_y.append(y_train[j])\n",
        "      count+=1\n",
        "x_train_sampled=np.array(sampled_set_x)\n",
        "y_train_sampled=np.array(sampled_set_y)"
      ],
      "metadata": {
        "id": "1gBUF7xHk4GG"
      },
      "execution_count": null,
      "outputs": []
    },
    {
      "cell_type": "markdown",
      "source": [
        "### **Task 6.2: Use PCA or t-SNE to reduce the small dataset down to two dimensions and plot the result using Matplotlib. You can use a scatterplot using 10 different colors to represent each images' target class (refer to steps in Week6-Lab I: Dimension_Reduction).**"
      ],
      "metadata": {
        "id": "pt_jtiJ6mYlX"
      }
    },
    {
      "cell_type": "code",
      "source": [
        "from sklearn.manifold import TSNE\n",
        "tsne = TSNE(n_components=2, random_state=42)\n",
        "\n",
        "X_tsne_reduced = tsne.fit_transform(x_train_sampled)"
      ],
      "metadata": {
        "id": "AcGwA_Uxlzis"
      },
      "execution_count": null,
      "outputs": []
    },
    {
      "cell_type": "code",
      "source": [
        "import matplotlib.pyplot as plt\n",
        "plt.figure(figsize=(12,8))\n",
        "plt.subplots_adjust(bottom = 0.1)\n",
        "plt.scatter(X_tsne_reduced[:, 0], X_tsne_reduced[:, 1], c= y_train_sampled, cmap='jet')  # color by real labels\n",
        "plt.colorbar()\n",
        "plt.xlabel(\"1st dimension\", fontsize=18)\n",
        "plt.ylabel(\"2md dimension\", fontsize=18)\n",
        "plt.title(\"Clustering Images using T-SNE Dimension Reduction\", fontsize=12)\n",
        "plt.show()"
      ],
      "metadata": {
        "id": "eaQDWqksm75D"
      },
      "execution_count": null,
      "outputs": []
    },
    {
      "cell_type": "markdown",
      "source": [
        "### **Task 6.3: Cluster the images using K-means, determine the optimal number of clusters using silhousette score. (Refer to steps in Textbook: P238-247)**"
      ],
      "metadata": {
        "id": "__ncWj-jnQQW"
      }
    },
    {
      "cell_type": "code",
      "source": [
        "from sklearn.cluster import KMeans\n",
        "kmeans_model = KMeans(init='k-means++', n_clusters=10)\n",
        "kmeans_model.fit(x_train_sampled)"
      ],
      "metadata": {
        "id": "Qc3sRleEnE0q"
      },
      "execution_count": null,
      "outputs": []
    },
    {
      "cell_type": "code",
      "source": [
        "train_cluster_labels = kmeans_model.predict(x_train_sampled)\n",
        "test_cluster_labels = kmeans_model.predict(x_test_scaled)"
      ],
      "metadata": {
        "id": "YxF_8hN2p3j4"
      },
      "execution_count": null,
      "outputs": []
    },
    {
      "cell_type": "code",
      "source": [
        "from sklearn.metrics import silhouette_score\n",
        "\n",
        "elbow={\"inertia\":[],\"clusters\":[]}\n",
        "silhouette={\"silhouette\":[],\"clusters\":[]}\n",
        "scaled_subset_x=x_train_scaled[0:10000]\n",
        "scaled_subset_y=y_train[0:10000]\n",
        "\n",
        "for i in range(3,12):\n",
        "   print(\"Clustering data into \", i, ' groups')\n",
        "   kmeans_model=KMeans(i)\n",
        "   elbow[\"clusters\"].append(i)\n",
        "   kmeans_model.fit(scaled_subset_x)\n",
        "   elbow[\"inertia\"].append(kmeans_model.inertia_)\n",
        "   silhouette[\"silhouette\"].append(silhouette_score(scaled_subset_x,kmeans_model.labels_))"
      ],
      "metadata": {
        "id": "MYRkSqYUqGaP"
      },
      "execution_count": null,
      "outputs": []
    },
    {
      "cell_type": "code",
      "source": [
        "plt.scatter(x=elbow[\"clusters\"],y=silhouette[\"silhouette\"])\n",
        "plt.plot(elbow[\"clusters\"], silhouette[\"silhouette\"])\n",
        "plt.xlabel(\"n_clusters\", size=20)\n",
        "plt.ylabel(\"Silhouette score\", size=20)\n",
        "plt.title(\"Silhouette Graph\", size=20)\n",
        "plt.show()"
      ],
      "metadata": {
        "id": "YnXsVu_jqs1F"
      },
      "execution_count": null,
      "outputs": []
    },
    {
      "cell_type": "markdown",
      "source": [
        "From above graph the optimal number of clusters would be 8"
      ],
      "metadata": {
        "id": "ktKOZ3Ghsmkr"
      }
    },
    {
      "cell_type": "code",
      "source": [
        "plt.scatter(x=elbow[\"clusters\"],y=elbow[\"inertia\"])\n",
        "plt.plot(elbow[\"clusters\"], elbow[\"inertia\"])\n",
        "plt.xlabel(\"n_clusters\", size=20)\n",
        "plt.ylabel(\"inertia\", size=20)\n",
        "plt.title(\"Elbow Graph\", size=20)\n",
        "plt.show()"
      ],
      "metadata": {
        "id": "flGzmmyEswuD"
      },
      "execution_count": null,
      "outputs": []
    },
    {
      "cell_type": "markdown",
      "source": [
        "### **Task 6.4: Given the optimal clusters from Task 6.3, visualize the images in every cluster: do you see similar faces in each cluster?**"
      ],
      "metadata": {
        "id": "_I8JnW0HoG6P"
      }
    },
    {
      "cell_type": "code",
      "source": [
        "# Step 5: visualize the images in each cluster from K-means\n",
        "img_idx = 0\n",
        "import matplotlib.pyplot as plt\n",
        "fig = plt.figure(figsize=(10,10))\n",
        "plt.subplots_adjust(top = 0.99, bottom=0.01, hspace=1, wspace=0.4)\n",
        "for cluster_id in set(train_cluster_labels):\n",
        "    cluster_images = x_train_sampled[train_cluster_labels==cluster_id]\n",
        "\n",
        "    for i in range(10):\n",
        "        plt.subplot(10,10,img_idx+1)\n",
        "        plt.imshow(cluster_images[i].reshape(28,28), cmap='gray', interpolation='none')\n",
        "        plt.axis('off')\n",
        "        if i == 0: plt.title(\"Cluster {}\".format(cluster_id))\n",
        "        img_idx += 1"
      ],
      "metadata": {
        "id": "_9O8gzwBoL1A"
      },
      "execution_count": null,
      "outputs": []
    },
    {
      "cell_type": "markdown",
      "source": [
        "Yes, I can see similar faces in some clusters"
      ],
      "metadata": {
        "id": "A2OeaGBjvQsN"
      }
    }
  ]
}